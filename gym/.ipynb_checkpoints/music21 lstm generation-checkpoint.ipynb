{
 "cells": [
  {
   "cell_type": "code",
   "execution_count": 1,
   "metadata": {
    "collapsed": true
   },
   "outputs": [],
   "source": [
    "%load_ext autoreload\n",
    "import mido\n"
   ]
  },
  {
   "cell_type": "code",
   "execution_count": null,
   "metadata": {
    "collapsed": false
   },
   "outputs": [],
   "source": [
    "mid = mido.MidiFile('midi/Britney-Spears_Baby-One-More-Time_.mid')"
   ]
  },
  {
   "cell_type": "code",
   "execution_count": 2,
   "metadata": {
    "collapsed": false
   },
   "outputs": [
    {
     "ename": "TypeError",
     "evalue": "slice indices must be integers or None or have an __index__ method",
     "output_type": "error",
     "traceback": [
      "\u001b[0;31m---------------------------------------------------------------------------\u001b[0m",
      "\u001b[0;31mTypeError\u001b[0m                                 Traceback (most recent call last)",
      "\u001b[0;32m<ipython-input-2-0f7b6b7b293c>\u001b[0m in \u001b[0;36m<module>\u001b[0;34m()\u001b[0m\n\u001b[1;32m      1\u001b[0m \u001b[0;32mimport\u001b[0m \u001b[0mdata_generator\u001b[0m\u001b[0;34m\u001b[0m\u001b[0m\n\u001b[0;32m----> 2\u001b[0;31m \u001b[0;32mfor\u001b[0m \u001b[0ma\u001b[0m\u001b[0;34m,\u001b[0m\u001b[0mb\u001b[0m \u001b[0;32min\u001b[0m \u001b[0mdata_generator\u001b[0m\u001b[0;34m.\u001b[0m\u001b[0mgenerate_perc_prediction\u001b[0m\u001b[0;34m(\u001b[0m\u001b[0;34m)\u001b[0m\u001b[0;34m:\u001b[0m\u001b[0;34m\u001b[0m\u001b[0m\n\u001b[0m\u001b[1;32m      3\u001b[0m     \u001b[0;32mprint\u001b[0m \u001b[0ma\u001b[0m\u001b[0;34m\u001b[0m\u001b[0m\n",
      "\u001b[0;32m/home/dmitry/projects/music/gym/data_generator.py\u001b[0m in \u001b[0;36mgenerate_perc_prediction\u001b[0;34m()\u001b[0m\n\u001b[1;32m    101\u001b[0m             \u001b[0mbatches_fill\u001b[0m \u001b[0;34m=\u001b[0m \u001b[0;36m0\u001b[0m\u001b[0;34m\u001b[0m\u001b[0m\n\u001b[1;32m    102\u001b[0m             \u001b[0mi\u001b[0m \u001b[0;34m=\u001b[0m \u001b[0;36m0\u001b[0m\u001b[0;34m\u001b[0m\u001b[0m\n\u001b[0;32m--> 103\u001b[0;31m             \u001b[0;32mfor\u001b[0m \u001b[0mval\u001b[0m\u001b[0;34m,\u001b[0m \u001b[0mans\u001b[0m \u001b[0;32min\u001b[0m \u001b[0minput_gen\u001b[0m\u001b[0;34m:\u001b[0m\u001b[0;34m\u001b[0m\u001b[0m\n\u001b[0m\u001b[1;32m    104\u001b[0m                 \u001b[0mbatches\u001b[0m\u001b[0;34m[\u001b[0m\u001b[0mbatches_fill\u001b[0m\u001b[0;34m,\u001b[0m \u001b[0mi\u001b[0m \u001b[0;34m%\u001b[0m \u001b[0msequence_length\u001b[0m\u001b[0;34m]\u001b[0m \u001b[0;34m=\u001b[0m \u001b[0mval\u001b[0m\u001b[0;34m\u001b[0m\u001b[0m\n\u001b[1;32m    105\u001b[0m                 \u001b[0manswers\u001b[0m\u001b[0;34m[\u001b[0m\u001b[0mbatches_fill\u001b[0m\u001b[0;34m,\u001b[0m \u001b[0mi\u001b[0m \u001b[0;34m%\u001b[0m \u001b[0msequence_length\u001b[0m\u001b[0;34m]\u001b[0m \u001b[0;34m=\u001b[0m \u001b[0mans\u001b[0m\u001b[0;34m\u001b[0m\u001b[0m\n",
      "\u001b[0;32m/home/dmitry/projects/music/gym/operations.pyc\u001b[0m in \u001b[0;36mParse_perc\u001b[0;34m(self, tick)\u001b[0m\n\u001b[1;32m    151\u001b[0m                 \u001b[0mdrum_ind\u001b[0m \u001b[0;34m=\u001b[0m \u001b[0mi\u001b[0m\u001b[0;34m\u001b[0m\u001b[0m\n\u001b[1;32m    152\u001b[0m                 \u001b[0;32mbreak\u001b[0m\u001b[0;34m\u001b[0m\u001b[0m\n\u001b[0;32m--> 153\u001b[0;31m         \u001b[0mpdic\u001b[0m\u001b[0;34m,\u001b[0m \u001b[0mpvelocities\u001b[0m \u001b[0;34m=\u001b[0m \u001b[0mself\u001b[0m\u001b[0;34m.\u001b[0m\u001b[0mget_durations_and_velocities\u001b[0m\u001b[0;34m(\u001b[0m\u001b[0mTrue\u001b[0m\u001b[0;34m,\u001b[0m \u001b[0mself\u001b[0m\u001b[0;34m.\u001b[0m\u001b[0msong\u001b[0m\u001b[0;34m.\u001b[0m\u001b[0mtracks\u001b[0m\u001b[0;34m[\u001b[0m\u001b[0mdrum_ind\u001b[0m\u001b[0;34m]\u001b[0m\u001b[0;34m)\u001b[0m\u001b[0;34m\u001b[0m\u001b[0m\n\u001b[0m\u001b[1;32m    154\u001b[0m         \u001b[0msorted_dic\u001b[0m \u001b[0;34m=\u001b[0m \u001b[0mself\u001b[0m\u001b[0;34m.\u001b[0m\u001b[0msorting_by_value\u001b[0m\u001b[0;34m(\u001b[0m\u001b[0mdic\u001b[0m\u001b[0;34m)\u001b[0m\u001b[0;34m\u001b[0m\u001b[0m\n\u001b[1;32m    155\u001b[0m         \u001b[0mpsorted_dic\u001b[0m \u001b[0;34m=\u001b[0m \u001b[0mself\u001b[0m\u001b[0;34m.\u001b[0m\u001b[0msorting_by_value\u001b[0m\u001b[0;34m(\u001b[0m\u001b[0mpdic\u001b[0m\u001b[0;34m)\u001b[0m\u001b[0;34m\u001b[0m\u001b[0m\n",
      "\u001b[0;32m/home/dmitry/projects/music/gym/operations.pyc\u001b[0m in \u001b[0;36mget_durations_and_velocities\u001b[0;34m(self, take_first, start_track)\u001b[0m\n\u001b[1;32m    111\u001b[0m         \u001b[0mnotes\u001b[0m \u001b[0;34m=\u001b[0m \u001b[0;34m{\u001b[0m\u001b[0;34m}\u001b[0m\u001b[0;34m\u001b[0m\u001b[0m\n\u001b[1;32m    112\u001b[0m         \u001b[0mcurrent_time\u001b[0m \u001b[0;34m=\u001b[0m \u001b[0;36m0\u001b[0m\u001b[0;34m\u001b[0m\u001b[0m\n\u001b[0;32m--> 113\u001b[0;31m         \u001b[0;32mfor\u001b[0m \u001b[0mtrack\u001b[0m \u001b[0;32min\u001b[0m \u001b[0mself\u001b[0m\u001b[0;34m.\u001b[0m\u001b[0msong\u001b[0m\u001b[0;34m.\u001b[0m\u001b[0mtracks\u001b[0m\u001b[0;34m[\u001b[0m\u001b[0mstart_track\u001b[0m\u001b[0;34m:\u001b[0m\u001b[0;34m]\u001b[0m\u001b[0;34m:\u001b[0m\u001b[0;34m\u001b[0m\u001b[0m\n\u001b[0m\u001b[1;32m    114\u001b[0m             \u001b[0mis_noted\u001b[0m \u001b[0;34m=\u001b[0m \u001b[0mFalse\u001b[0m\u001b[0;34m\u001b[0m\u001b[0m\n\u001b[1;32m    115\u001b[0m             \u001b[0;32mfor\u001b[0m \u001b[0mmessage\u001b[0m \u001b[0;32min\u001b[0m \u001b[0mtrack\u001b[0m\u001b[0;34m:\u001b[0m\u001b[0;34m\u001b[0m\u001b[0m\n",
      "\u001b[0;31mTypeError\u001b[0m: slice indices must be integers or None or have an __index__ method"
     ]
    }
   ],
   "source": [
    "import data_generator\n",
    "for a,b in data_generator.generate_perc_prediction():\n",
    "    print a"
   ]
  },
  {
   "cell_type": "code",
   "execution_count": null,
   "metadata": {
    "collapsed": false
   },
   "outputs": [],
   "source": [
    "print(range(113,120))"
   ]
  },
  {
   "cell_type": "code",
   "execution_count": null,
   "metadata": {
    "collapsed": false
   },
   "outputs": [],
   "source": [
    "mid.save('asdff.mid')"
   ]
  },
  {
   "cell_type": "code",
   "execution_count": 12,
   "metadata": {
    "collapsed": true
   },
   "outputs": [],
   "source": [
    "from music21 import converter\n",
    "c = converter.parse('midi1/a.mid')"
   ]
  },
  {
   "cell_type": "code",
   "execution_count": 22,
   "metadata": {
    "collapsed": false
   },
   "outputs": [
    {
     "name": "stdout",
     "output_type": "stream",
     "text": [
      " F 4 C 4 A 2 p z\n",
      "G 4 G 3 C 4 C 3 E 4 o z\n",
      "A 4 C 4 F 4 F 3 o z\n",
      "B- 4 D 4 F 4 B- 3 B- 2 p z\n",
      "C 3 A 4 C 4 F 4 A 3 h z\n",
      "G 4 E 4 C 3 h z\n",
      "F 4 o z\n",
      "C 4 F 4 F 2 A 3 C 3 F 3 p z\n",
      "F 4 A 4 C 4 F 3 o z\n",
      "C 4 F 3 o z\n",
      "A 4 A 3 o z\n",
      "C 5 A 4 E 4 A 3 o z\n",
      "C 5 G 4 h z\n",
      "C 3 u z\n",
      "B- 4 o z\n",
      "A 4 F 4 p z\n",
      "A 3 u z\n",
      "A 4 F 4 F 3 p z\n",
      "G 4 E 4 C 4 C 3 o z\n",
      "A 4 C 4 F 4 o z\n",
      "C 5 A 3 C 4 A 4 A 2 o z\n",
      "C 4 h z\n",
      "G 4 C 4 E 4 u z\n",
      "F 2 F 4 C 4 p z\n",
      "C 3 u z\n",
      "C 4 F 4 A 4 p z\n",
      "G 3 G 2 u z\n",
      "A 4 F 4 p z\n",
      "A 4 C 4 E 4 p z\n",
      "C 5 o z\n",
      "C 5 A 4 p z\n",
      "G 2 u z\n",
      "B- 4 D 4 o z\n",
      "F 2 C 4 p z\n",
      "C 3 o z\n",
      "C 4 p z\n",
      "E 4 C 4 G 4 o z\n",
      "A 4 F 4 F 2 o z\n",
      "A 4 C 5 F 4 o z\n",
      "B- 2 B- 1 u z\n",
      "A 4 h z\n",
      "G 4 C 4 E 4 u z\n",
      "F 4 h z\n",
      "C 3 o z\n",
      "F 3 u z\n",
      "F 4 p z\n",
      "A 4 p z\n",
      "G 4 A 3 u z\n",
      "D 5 p z\n",
      "C 5 p z\n",
      "B- 4 o z\n",
      "A 4 p z\n",
      "B- 4 G 2 h z\n",
      "B- 4 h z\n",
      "C 2 u z\n",
      "C 5 p z\n",
      "C# 3 o z\n",
      "A 4 p z\n",
      "F 3 p z\n",
      "F 4 p z\n",
      "B- 2"
     ]
    },
    {
     "ename": "KeyError",
     "evalue": "'complex'",
     "output_type": "error",
     "traceback": [
      "\u001b[0;31m---------------------------------------------------------------------------\u001b[0m",
      "\u001b[0;31mKeyError\u001b[0m                                  Traceback (most recent call last)",
      "\u001b[0;32m<ipython-input-22-692e3bd1ea3e>\u001b[0m in \u001b[0;36m<module>\u001b[0;34m()\u001b[0m\n\u001b[1;32m      5\u001b[0m     \u001b[0;32mfor\u001b[0m \u001b[0mpitch\u001b[0m \u001b[0;32min\u001b[0m \u001b[0mthisNote\u001b[0m\u001b[0;34m.\u001b[0m\u001b[0mpitches\u001b[0m\u001b[0;34m:\u001b[0m\u001b[0;34m\u001b[0m\u001b[0m\n\u001b[1;32m      6\u001b[0m         \u001b[0;32mprint\u001b[0m \u001b[0mpitch\u001b[0m\u001b[0;34m.\u001b[0m\u001b[0mname\u001b[0m\u001b[0;34m,\u001b[0m \u001b[0mstr\u001b[0m\u001b[0;34m(\u001b[0m\u001b[0mpitch\u001b[0m\u001b[0;34m.\u001b[0m\u001b[0moctave\u001b[0m\u001b[0;34m)\u001b[0m\u001b[0;34m,\u001b[0m\u001b[0;34m\u001b[0m\u001b[0m\n\u001b[0;32m----> 7\u001b[0;31m     \u001b[0;32mprint\u001b[0m \u001b[0mdur_to_text\u001b[0m\u001b[0;34m[\u001b[0m\u001b[0mthisNote\u001b[0m\u001b[0;34m.\u001b[0m\u001b[0mduration\u001b[0m\u001b[0;34m.\u001b[0m\u001b[0mtype\u001b[0m\u001b[0;34m]\u001b[0m\u001b[0;34m,\u001b[0m\u001b[0;34m'z'\u001b[0m\u001b[0;34m\u001b[0m\u001b[0m\n\u001b[0m",
      "\u001b[0;31mKeyError\u001b[0m: 'complex'"
     ]
    }
   ],
   "source": [
    "from music21 import duration\n",
    "dur_to_text = {'whole':'l','half':'k','quarter':'h','eighth':'p','16th':'o','32th':'i','zero':'u'}\n",
    "text_to_dur = {'l':'whole','k':'half','h':'quarter','p':'eighth','o':'16th','i':'32th', 'u':'zero'}\n",
    "for thisNote in c.recurse().notes:\n",
    "    for pitch in thisNote.pitches:\n",
    "        print pitch.name, str(pitch.octave),\n",
    "    print dur_to_text[thisNote.duration.type],'z'"
   ]
  },
  {
   "cell_type": "code",
   "execution_count": 9,
   "metadata": {
    "collapsed": false
   },
   "outputs": [],
   "source": [
    "from music21 import chord, stream, midi\n",
    "\n",
    "st = 'B-zG#CzB-E-B-zCzCzE-zGzG#CzFzGzAFzB-DzDB-zAzFzFzAzEzDzEzDzDzAzAzDzAzGz#zDzDzC#zDzEzFzDzACGzDzDzDzFzAzAzDzCzAzAzAzAzGDzAzAzAzDzAzAzB-zGzGzFzC#zDzC#zDzGzAzDzB-zAzFzFzEzFzGzFzGzFzFzB-zGzGzAzB-zCzFzB-zB-zAzC#zC#zDzC#zDzFzEzEzFzEzFzGzDzDzC#zDzCzFzB-zGzGzAzB-zCzFzB-zCzBzEzGzCAzDzAzCzAzDzDzAzB-zAzB-zB-zAzGEzC#zDzEzDzAzGEzAzAzAzEzDzAzCzFzB-zB-zAzB-zCzCzB-zB-zAzFzCzDzCzAzAzAzGzCzAzB-zGzFzAzB-zCzCzB-CzAzAzGzFzAzDzAzAzAzGzFzGzAzB-zB-zAzCEzFzGDzB-z'\n",
    "stream1 = stream.Stream()\n",
    "\n",
    "for c in st.split('z'):\n",
    "    #print c\n",
    "    while(c.startswith('-')):\n",
    "        c=c[1:]\n",
    "    while(c.startswith('#')):\n",
    "        c=c[1:]\n",
    "    stream1.append( chord.Chord(c.replace('-','- ').replace('#','# ').replace('A',' A').replace('B',' B').replace('C',' C').replace('D',' D').replace('E',' E').replace('F',' F').replace('G',' G')))"
   ]
  },
  {
   "cell_type": "code",
   "execution_count": 7,
   "metadata": {
    "collapsed": false
   },
   "outputs": [],
   "source": [
    "mf = midi.translate.streamToMidiFile(stream1)\n",
    "mf.open('am.mid', 'wb')\n",
    "mf.write()\n",
    "mf.close()  "
   ]
  }
 ],
 "metadata": {
  "kernelspec": {
   "display_name": "Python 2",
   "language": "python",
   "name": "python2"
  },
  "language_info": {
   "codemirror_mode": {
    "name": "ipython",
    "version": 2
   },
   "file_extension": ".py",
   "mimetype": "text/x-python",
   "name": "python",
   "nbconvert_exporter": "python",
   "pygments_lexer": "ipython2",
   "version": "2.7.12"
  }
 },
 "nbformat": 4,
 "nbformat_minor": 1
}
