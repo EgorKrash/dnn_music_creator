{
 "cells": [
  {
   "cell_type": "code",
   "execution_count": 1,
   "metadata": {
    "collapsed": true
   },
   "outputs": [],
   "source": [
    "%load_ext autoreload\n",
    "import mido\n"
   ]
  },
  {
   "cell_type": "code",
   "execution_count": null,
   "metadata": {
    "collapsed": false
   },
   "outputs": [],
   "source": [
    "mid = mido.MidiFile('midi/Britney-Spears_Baby-One-More-Time_.mid')"
   ]
  },
  {
   "cell_type": "code",
   "execution_count": 2,
   "metadata": {
    "collapsed": false
   },
   "outputs": [
    {
     "ename": "TypeError",
     "evalue": "slice indices must be integers or None or have an __index__ method",
     "output_type": "error",
     "traceback": [
      "\u001b[0;31m---------------------------------------------------------------------------\u001b[0m",
      "\u001b[0;31mTypeError\u001b[0m                                 Traceback (most recent call last)",
      "\u001b[0;32m<ipython-input-2-0f7b6b7b293c>\u001b[0m in \u001b[0;36m<module>\u001b[0;34m()\u001b[0m\n\u001b[1;32m      1\u001b[0m \u001b[0;32mimport\u001b[0m \u001b[0mdata_generator\u001b[0m\u001b[0;34m\u001b[0m\u001b[0m\n\u001b[0;32m----> 2\u001b[0;31m \u001b[0;32mfor\u001b[0m \u001b[0ma\u001b[0m\u001b[0;34m,\u001b[0m\u001b[0mb\u001b[0m \u001b[0;32min\u001b[0m \u001b[0mdata_generator\u001b[0m\u001b[0;34m.\u001b[0m\u001b[0mgenerate_perc_prediction\u001b[0m\u001b[0;34m(\u001b[0m\u001b[0;34m)\u001b[0m\u001b[0;34m:\u001b[0m\u001b[0;34m\u001b[0m\u001b[0m\n\u001b[0m\u001b[1;32m      3\u001b[0m     \u001b[0;32mprint\u001b[0m \u001b[0ma\u001b[0m\u001b[0;34m\u001b[0m\u001b[0m\n",
      "\u001b[0;32m/home/dmitry/projects/music/gym/data_generator.py\u001b[0m in \u001b[0;36mgenerate_perc_prediction\u001b[0;34m()\u001b[0m\n\u001b[1;32m    101\u001b[0m             \u001b[0mbatches_fill\u001b[0m \u001b[0;34m=\u001b[0m \u001b[0;36m0\u001b[0m\u001b[0;34m\u001b[0m\u001b[0m\n\u001b[1;32m    102\u001b[0m             \u001b[0mi\u001b[0m \u001b[0;34m=\u001b[0m \u001b[0;36m0\u001b[0m\u001b[0;34m\u001b[0m\u001b[0m\n\u001b[0;32m--> 103\u001b[0;31m             \u001b[0;32mfor\u001b[0m \u001b[0mval\u001b[0m\u001b[0;34m,\u001b[0m \u001b[0mans\u001b[0m \u001b[0;32min\u001b[0m \u001b[0minput_gen\u001b[0m\u001b[0;34m:\u001b[0m\u001b[0;34m\u001b[0m\u001b[0m\n\u001b[0m\u001b[1;32m    104\u001b[0m                 \u001b[0mbatches\u001b[0m\u001b[0;34m[\u001b[0m\u001b[0mbatches_fill\u001b[0m\u001b[0;34m,\u001b[0m \u001b[0mi\u001b[0m \u001b[0;34m%\u001b[0m \u001b[0msequence_length\u001b[0m\u001b[0;34m]\u001b[0m \u001b[0;34m=\u001b[0m \u001b[0mval\u001b[0m\u001b[0;34m\u001b[0m\u001b[0m\n\u001b[1;32m    105\u001b[0m                 \u001b[0manswers\u001b[0m\u001b[0;34m[\u001b[0m\u001b[0mbatches_fill\u001b[0m\u001b[0;34m,\u001b[0m \u001b[0mi\u001b[0m \u001b[0;34m%\u001b[0m \u001b[0msequence_length\u001b[0m\u001b[0;34m]\u001b[0m \u001b[0;34m=\u001b[0m \u001b[0mans\u001b[0m\u001b[0;34m\u001b[0m\u001b[0m\n",
      "\u001b[0;32m/home/dmitry/projects/music/gym/operations.pyc\u001b[0m in \u001b[0;36mParse_perc\u001b[0;34m(self, tick)\u001b[0m\n\u001b[1;32m    151\u001b[0m                 \u001b[0mdrum_ind\u001b[0m \u001b[0;34m=\u001b[0m \u001b[0mi\u001b[0m\u001b[0;34m\u001b[0m\u001b[0m\n\u001b[1;32m    152\u001b[0m                 \u001b[0;32mbreak\u001b[0m\u001b[0;34m\u001b[0m\u001b[0m\n\u001b[0;32m--> 153\u001b[0;31m         \u001b[0mpdic\u001b[0m\u001b[0;34m,\u001b[0m \u001b[0mpvelocities\u001b[0m \u001b[0;34m=\u001b[0m \u001b[0mself\u001b[0m\u001b[0;34m.\u001b[0m\u001b[0mget_durations_and_velocities\u001b[0m\u001b[0;34m(\u001b[0m\u001b[0mTrue\u001b[0m\u001b[0;34m,\u001b[0m \u001b[0mself\u001b[0m\u001b[0;34m.\u001b[0m\u001b[0msong\u001b[0m\u001b[0;34m.\u001b[0m\u001b[0mtracks\u001b[0m\u001b[0;34m[\u001b[0m\u001b[0mdrum_ind\u001b[0m\u001b[0;34m]\u001b[0m\u001b[0;34m)\u001b[0m\u001b[0;34m\u001b[0m\u001b[0m\n\u001b[0m\u001b[1;32m    154\u001b[0m         \u001b[0msorted_dic\u001b[0m \u001b[0;34m=\u001b[0m \u001b[0mself\u001b[0m\u001b[0;34m.\u001b[0m\u001b[0msorting_by_value\u001b[0m\u001b[0;34m(\u001b[0m\u001b[0mdic\u001b[0m\u001b[0;34m)\u001b[0m\u001b[0;34m\u001b[0m\u001b[0m\n\u001b[1;32m    155\u001b[0m         \u001b[0mpsorted_dic\u001b[0m \u001b[0;34m=\u001b[0m \u001b[0mself\u001b[0m\u001b[0;34m.\u001b[0m\u001b[0msorting_by_value\u001b[0m\u001b[0;34m(\u001b[0m\u001b[0mpdic\u001b[0m\u001b[0;34m)\u001b[0m\u001b[0;34m\u001b[0m\u001b[0m\n",
      "\u001b[0;32m/home/dmitry/projects/music/gym/operations.pyc\u001b[0m in \u001b[0;36mget_durations_and_velocities\u001b[0;34m(self, take_first, start_track)\u001b[0m\n\u001b[1;32m    111\u001b[0m         \u001b[0mnotes\u001b[0m \u001b[0;34m=\u001b[0m \u001b[0;34m{\u001b[0m\u001b[0;34m}\u001b[0m\u001b[0;34m\u001b[0m\u001b[0m\n\u001b[1;32m    112\u001b[0m         \u001b[0mcurrent_time\u001b[0m \u001b[0;34m=\u001b[0m \u001b[0;36m0\u001b[0m\u001b[0;34m\u001b[0m\u001b[0m\n\u001b[0;32m--> 113\u001b[0;31m         \u001b[0;32mfor\u001b[0m \u001b[0mtrack\u001b[0m \u001b[0;32min\u001b[0m \u001b[0mself\u001b[0m\u001b[0;34m.\u001b[0m\u001b[0msong\u001b[0m\u001b[0;34m.\u001b[0m\u001b[0mtracks\u001b[0m\u001b[0;34m[\u001b[0m\u001b[0mstart_track\u001b[0m\u001b[0;34m:\u001b[0m\u001b[0;34m]\u001b[0m\u001b[0;34m:\u001b[0m\u001b[0;34m\u001b[0m\u001b[0m\n\u001b[0m\u001b[1;32m    114\u001b[0m             \u001b[0mis_noted\u001b[0m \u001b[0;34m=\u001b[0m \u001b[0mFalse\u001b[0m\u001b[0;34m\u001b[0m\u001b[0m\n\u001b[1;32m    115\u001b[0m             \u001b[0;32mfor\u001b[0m \u001b[0mmessage\u001b[0m \u001b[0;32min\u001b[0m \u001b[0mtrack\u001b[0m\u001b[0;34m:\u001b[0m\u001b[0;34m\u001b[0m\u001b[0m\n",
      "\u001b[0;31mTypeError\u001b[0m: slice indices must be integers or None or have an __index__ method"
     ]
    }
   ],
   "source": [
    "import data_generator\n",
    "for a,b in data_generator.generate_perc_prediction():\n",
    "    print a"
   ]
  },
  {
   "cell_type": "code",
   "execution_count": null,
   "metadata": {
    "collapsed": false
   },
   "outputs": [],
   "source": [
    "print(range(113,120))"
   ]
  },
  {
   "cell_type": "code",
   "execution_count": null,
   "metadata": {
    "collapsed": false
   },
   "outputs": [],
   "source": [
    "mid.save('asdff.mid')"
   ]
  },
  {
   "cell_type": "code",
   "execution_count": 3,
   "metadata": {
    "collapsed": true
   },
   "outputs": [],
   "source": [
    "from music21 import converter\n",
    "c = converter.parse('midi1/a.mid')"
   ]
  },
  {
   "cell_type": "code",
   "execution_count": 8,
   "metadata": {
    "collapsed": false
   },
   "outputs": [
    {
     "name": "stdout",
     "output_type": "stream",
     "text": [
      "F C A z G G C C E z A C F F z B- D F B- B- z C A C F A z G E C z F z C F F A C F z F A C F z C F z A A z C A E A z C G z C z B- z A F z A z A F F z G E C C z A C F z C A C A A z C z G C E z F F C z C z C F A z G G z A F z A C E z C z C A z G z B- D z F C z C z C z E C G z A F F z A C F z B- B- z A z G C E z F z C z F z F z A z G A z D z C z B- z A z B- G z B- z C z C z C# z A z F z F z B- z F z C z F D z C z C G z C G B- z F C z G C E z A A F C F F z B- z F A A z C A z C z C C z G E G z D D z C G z F F z F z A z F# D A z B- z A z G z F z C G z B- z G z G z A C z E z B- z C z F z D z C z C G z B- B- z A F C A A F z G E C z C A F F z B- D B- F B- z C F A A z A A F z C z G E z F z F z F C F A z F z F C z A F z A E C z C E A z C z B- z C F z C z F C A F z E G z A F C z C F C A A A z F A A z C z G C E B- z C F z C z A F C A F F z A F z A E A z C A z C A D z B- z A F F z C z C z C E z A C F F z F A z B- B- z A z G E C z F F z C z F z C F z C z A z G z D z C z B- z A z G z G F z C z C z G z F z F z E z B- z F z B- z C z D z G C z B- B- z F C A z E G C z C# z F C A z B- z B- D F B- B- B- z A z F C A A z F A C z C z E C z C G C E z E z F z G z F z A F# z C z F# z B- z C G z B- z A z A z D A E z B- z C G z C z C C z B- B- z C A F A F z G E C z F A C F z B- B- F D B- z B- z A F C z A C F z G C E z F z F z F z A z C F F A A F z F z F C A A z C E A A E z E A A E z C z D z B- B- z A F C A F z C z C F A z E G C z F A C F z C A A F A z F A z C z G E C G z C F A z C z F z C F A A z F A C A z C E A A A E z E C A A z A z F D C z G z F A z C z F z A F F z G E C z A F F z F A C z B- B- z C A F z C E z G z A C F z C z F z C F C z F z G G z F# A z C z A z G z G z C z B- z E- z G z C A z F z B- D z A z B- F z G C E z F D z C z C z B- B- z F C A A z G E C z C F F A z B- D B- F B- z C C z F C A z C A C F z C z G z C C E G z E z F A z C z G z D z C z A z B- z C z E G z A z G z F z B- z F z G E z D z G C z F A C A z G E C z A F C F z B- D B- F B- z C# z C F z A z A A F z F z C z F C z F F C A C F z A C A F z A F z C z C C z A F F z E C A z C z D z C z C z F z F z A z A z F F z A A z C z G G z F F z E C E E z F z G z A F z F z C C z C F F z A A C z C z C G z B- G z C z A z C z D z F# z G D z G z G z G z A z E z B- z G z C G E z C C z A z C z G C z D F B- z C A A z C F z C z E G z C z G z C z B- z C z A z E C z A z A z B- F z A z F z B- z G z C C G z A F z B- z C C z C A F z C z B- z C A z A A z A C A z G z C z G E z A F F z F z C C C z F F z C A z A F z C F F A F z C A z E A A z F z E E z G z C z A z G z F z C C z F z B- G z F z F A z A z C z B- z C E z G B- z A z B- F z A z F z G z C C z F A A z G C C z A z F z C z G G z G E z F z C z F# A C z B- z A z F D z D z F z G z G z C z F z A z G z G E z C G z A F z G C C z F A z C z C z B- z G z E z F C z F F z A z A A A E z C A z D G z C z A F F A z C G z F A z C F A z C A C z F z F F z F F z A z C E A z C A z E E z B- z C F z C F A z C C G z C F F z C A A A z A A F z B- E G z G C z F z A F z C z F# C A z B- z B- z E z A z C z F z C z E z B- z G z G E z G z F A z C C z F A z B- B- B- z A z A z C G z C F z F z A F# z G# z D F# z G z F G z C E z A z E C z C z F z F# z B- D z A z C G E z F D z C C z B- B- z F A A z G z A F z B- z A z C F z G E z B- z G z F z F C z D z A z F z F z C F z F# z A z D z F z E z C z C z F z F z B- z G z A A z B- z C C z A z E E z A C z F# A z C z F D z D z C z G z F z B- z G z E z C C z C z F C z F C z D z C z F z C A z D z F z F z C C z A A z C z C E z C z A A z D F# z D z D z G z A z E z C z B- D z G z G E z A z C z C z D z G z G z C z A z B- D z D z F z E z F z D z A z A z C z A z A C E z G z F z C G z F z D z C z F z A F z C C z F z A z A z D D z D z D z F G z C z E z B- z C C z G z E C G z C z A z D z D z G z G z G B- z F z B- F z C C z C C z A z G C z G z G z C z D z F z C C z A z C z D z G z B- z E z B- F D z A z E z D z G z E z D z C z C z A z D z F z G z C C z A z C z F# z G z G z F z E z G z A z A z D z G z E z C z F z B- z C z C z G z D z C z D z G z F G# z D z E z D z C A z D z C z G# z G z C z F z A z D z D A z E z G z F z D F# z F D z C z D A z B- z D z B- z G z A z F A C A z G G C E C z A F C A F z B- D F B- B- z A C F C A z G C E C z F z F C A F C F z F A C F z C F F z A E C A z C A E A z C G z C z B- z A F z A z A F F z C z G E C C z A C F F z C A C A A z F A z A z G E C z F F C z C z C F A z G G z A F z G G z A C E z C z C A z G z B- D z A F z F z E G C z A F F z A C F z B- B- z A z G C E z F z C z F z F z A z G A z D z C z B- z A z B- G z B- z C z C# z A z A z E z B- z G z C z F D z C z C G z C G B- z F C z G E C z A F A C F F z B- z F A A z C A z C z G E G z D D z C G z C z G z F# D A z B- z A z G z F z C G z B- z G G z A C z E z B- z C z F z D z C z C G z B- B- z F A C A z G E C z A C F F z B- D F B- B- z C A F A z A F A z C z G E z F z F z F C F A z A F z A E C z C E A A z C z B- z A F F z C z F A C F z G E C C z A F C z C F A C A A z F A A z C z G E C B- z F C A z C z A F C A F F z A F z A E A A z C E A A z C A D z B- z A F F z C z A z C E z A F C F z F A z B- B- z A z G E C z F F z C z F z C F z A z G A z D z C z B- z A z G z F G z C E z G B- z G z A z E z B- F z A z F G z F z B- z C z D z G C z B- B- z F C A z E G C C z C# z A F C z B- z B- F D B- B- B- z A z F A C A z F A z C z E C z G E C z E z C z F z A F# z C z A z B- z C G z B- z A z A z D E A z B- z G E z C z C G z B- B- z F C A z G E C z A F C F z B- F B- B- z B- z A F C z A F C z G C E z F z F z F z A z C F A A F F z F z F A C A z C E A A A z C A A z C z D z B- B- C z A C F A F z C z A F A F z E G C C z A F C F z C A F A z F A z C z G E C G z F C A z C z F z A F C A F F z F A C A z A E C A A E z C E A A z A z C A z C z A F z C z F z A F F z G E C G z A C F F z C A A A z B- B- z A F z C E G z G z A C F z C z F z C F C z F z G G z F# A z C z A z B- z C z B- z E- z G z C A z F z B- D z A z B- F z G E z C z C z B- B- z F A C A z G E C z F C A F z B- D F B- B- z F A C z A C A z C z G z C G C E z E z F A z C z G z A F# z C z A z B- z C z E G z A z G z F z B- z F z G E z D z G C z B- B- z F A C A z G E C z A F C F z B- D F B- B- z C# z A z A A F z F z C z F z C z F F C A C F z F z C z B- z A F F z C z D z C z F C z C z A z F F z A A z C z F z F z E C E E z F z G z C F z A z C C z C F F z C A A z F z B- G z C G z C z C F z C z D z F# z G D z G z C z G z G z F z F z B- z F z G z C C z A A z G C z F D B- z C A A z F A z C C z C z E G z A F C z F z A z D A z C z B- z C z A z E C z A z A z B- F z A z F z B- z G z F A z G C C z A F z B- z C C z C A z C z C A z F z F C z A A z C A A z G z C z G E z C F z F z C z F F z C A z F z C F F A F z C A z C A z F z E E z G z C z C z G z F z C A C z F z B- G z C z A A z C z F# z B- z C z C z F z F z B- z G E z C C z F A A z G C C z A z F z C z G G z G C C z F z C z D z B- z F# z F D z D z F G z G z G z C z F z A z G z C G z C C z F A A z G C C z F A z D B- B- z A z A z C z B- z G z E z C F z F F z A z E z E C A A E z G D z C A z G C C z A F z C A z C A z F z F F z A z C E z F D C D z G z B- z C F z C A z C C z A F z F C z C A z B- E G z C z F z A F z C z F# C A z B- z D z D z F G z E z A z C z F z C z E z B- z G z G C E z F D z G z F A z G C z F A z B- B- z A z F C z E G C z C z F z D D z D z G# z D B- F# z G z F G z C E z A z E C z C z F z F# z B- D z A z C G E z F D z C C z F A A z G C z A F z B- B- z C F z A z C z G E z G z G z F z C z D z C z C z C z A z A z F# z A z D z F z E z C z E z F z F z B- z C G E z A A z C z B- z C C z C z E E z F z F# A z F D z D z E z G z F z B- z G z C z C C z C z B- z F C z D z C z F z D D z F z F z C C z A A z C z C E z A z F A z D F# D z D z D z G z A z E z C z B- D z G z C z C z A z A z D z G z C z A z B- z D z F z E z F z D z C z C z A z G z F z C z F z D z E E z F z C C z F z A z A z D z G z G z C z E z B- z C C z C z C C z C G z C z A z D z D z G z G z B- G z F z B- F z C z A z G C z G z D z F z C C z F z C z D z G z B- z C z B- F D z A z E z C z G z C z D z E z C z F C z A z F z G z C C z F z C z C z G z G z F z E z A z G z F z G z F# A C z G z E z C z F z B- z C z C z G z C z D D z G z F G# z D z E z F z C A z D z C z G# z G z C C z C z F z A z D z D z E z G z F z A z F D z C z D A z B- z G z D z\n"
     ]
    }
   ],
   "source": [
    "for thisNote in c.recurse().notes:\n",
    "  for pitch in thisNote.pitches:\n",
    "    print pitch.name,\n",
    "  print 'z',"
   ]
  },
  {
   "cell_type": "code",
   "execution_count": 27,
   "metadata": {
    "collapsed": false
   },
   "outputs": [],
   "source": [
    "from music21 import chord, stream, midi\n",
    "st = 'zG#zF#zEzF#zF#zB-F#CEzB-B-zE-zB-zFFFzFE-zE-zF#zEzDzCEzB-EzF#zF#EzCzF#zF#zCzF#zEzCzF#zF#zF#F#zCzCzEzE-zF#zEzF#zF#zEF#zF#zF#zF#zF#zCF#zCCzF#zEzB-zF#EEzF#zF#zCF#zF#zF#zF#zB-zF#zEzCGzF#zF#zF#zCF#zF#B-F#zF#zF#zF#zF#zB-zF#zEF#zF#zF#zEzDF#zF#zF#zF#zCzB-zCzF#zF#zF#zEzCzF#zF#zF#zCzCF#zEzCzF#zE-zB-zF#EzCF#zF#zEB-zF#CzDF#zEF#zF#zB-zF#zEF#zF#zFF#zF#zF#zF#zF#CzF#zEzCDF#zAzF#zCzF#CzF#zF#zEzCzF#zEzE-zF#EzCzzF#zF#zF#zDF#zCF#zEzB-F#zF#zE-CzF#zF#zCF#zF#B'\n",
    "\n",
    "stream1 = stream.Stream()\n",
    "\n",
    "for c in st.split('z'):\n",
    "    #print c\n",
    "    while(c.startswith('-')):\n",
    "        c=c[1:]\n",
    "    stream1.append( chord.Chord(c.replace('-','- ').replace('A',' A').replace('B',' B').replace('C',' C').replace('D',' D').replace('E',' E').replace('F',' F').replace('G',' G')))\n",
    "    "
   ]
  },
  {
   "cell_type": "code",
   "execution_count": 28,
   "metadata": {
    "collapsed": false
   },
   "outputs": [],
   "source": [
    "mf = midi.translate.streamToMidiFile(stream1)\n",
    "mf.open('ass.mid', 'wb')\n",
    "mf.write()\n",
    "mf.close()  "
   ]
  }
 ],
 "metadata": {
  "kernelspec": {
   "display_name": "Python 2",
   "language": "python",
   "name": "python2"
  },
  "language_info": {
   "codemirror_mode": {
    "name": "ipython",
    "version": 2
   },
   "file_extension": ".py",
   "mimetype": "text/x-python",
   "name": "python",
   "nbconvert_exporter": "python",
   "pygments_lexer": "ipython2",
   "version": "2.7.12"
  }
 },
 "nbformat": 4,
 "nbformat_minor": 1
}
